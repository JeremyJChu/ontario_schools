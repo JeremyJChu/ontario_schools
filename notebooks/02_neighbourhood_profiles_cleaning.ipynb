{
  "nbformat": 4,
  "nbformat_minor": 0,
  "metadata": {
    "colab": {
      "name": "02_neighbourhood-profiles_cleaning.ipynb",
      "provenance": []
    },
    "kernelspec": {
      "name": "python3",
      "display_name": "Python 3"
    }
  },
  "cells": [
    {
      "cell_type": "code",
      "metadata": {
        "id": "91dDI6e7GGPp"
      },
      "source": [
        "import pandas as pd\n",
        "import numpy as np"
      ],
      "execution_count": null,
      "outputs": []
    },
    {
      "cell_type": "code",
      "metadata": {
        "id": "Sg-E_o4HEuNt"
      },
      "source": [
        "# Read data\n",
        "neighbourhood_df = pd.read_csv(\"04_neighbourhood-profiles-2016.csv\")\n",
        "\n",
        "# As the dataset has quite a few fields, let's start by dropping obvious columns first. \n",
        "neighbourhood_df.drop([\"Data Source\"], axis = 1, inplace=True)"
      ],
      "execution_count": null,
      "outputs": []
    },
    {
      "cell_type": "code",
      "metadata": {
        "id": "HGxWgqn4E1sc"
      },
      "source": [
        "# Now I can filter the data into language and income, also keeping the population row\n",
        "ndf = neighbourhood_df[(neighbourhood_df['Topic'] == 'Neighbourhood Information') | (neighbourhood_df['Topic'] == 'Mother tongue') | (neighbourhood_df['Category'] == 'Income') | (neighbourhood_df['_id'] == 3)]\n",
        "\n",
        "# From those rows, I narrowed down the rows I want and filtered the dataset again\n",
        "#ndf_filtered = ndf.loc[ndf['_id'].isin([3,143,144,145,1056,1057,1058,1059,1060,1061,1062,1063,1064,1065,1066,1067,1068,1069,1070,1071])]\n",
        "ndf_filtered = ndf.loc[ndf['_id'].isin([1,3,143,144,145,1110,1111,1112,1113,1114,1115])]\n",
        "\n",
        "# Dropping more useless columns now that filtering is done\n",
        "ndf_filtered2 = ndf_filtered.drop(['_id','Category'],axis=1).T\n",
        "\n",
        "# Need a proper heading now. I want row 2 to be my header, so I'm pulling it out and saving it into new_header, and then loading the dataset without the first 2 rows\n",
        "new_header = ndf_filtered2.iloc[1]\n",
        "ndf_filtered2 = ndf_filtered2[2:]\n",
        "\n",
        "# Loading the column headers back in \n",
        "ndf_filtered2.columns = new_header\n",
        "\n",
        "# There's an awkward 'Characteristic' as an index name but is unaccessible in the df's current form. Flipping the dataset does the trick\n",
        "ndf_filtered2 = ndf_filtered2.T\n",
        "\n",
        "# Now I can rename the index into 'Neighbourhood' and then flip the data one last time\n",
        "ndf_filtered2.index.names = ['Neighbourhood']\n",
        "ndf_filtered2 = ndf_filtered2.T\n",
        "\n",
        "# The columns have weird leading and trailing spaces. Let's get rid of them.\n",
        "ndf_filtered2.columns = ndf_filtered2.columns.str.strip()"
      ],
      "execution_count": null,
      "outputs": []
    },
    {
      "cell_type": "code",
      "metadata": {
        "id": "BQnLegCPE4Ar"
      },
      "source": [
        "# Creating a list of columns on income to filter\n",
        "money_list = ndf_filtered2[ndf_filtered2.filter(regex = 'In the').columns].columns.tolist()\n",
        "\n",
        "# Removing the \",\"  between numbers\n",
        "ndf_filtered2 = ndf_filtered2.replace(r',','',regex = True)\n",
        "\n",
        "# Changing columns to numeric\n",
        "ndf_filtered2 = ndf_filtered2.apply(pd.to_numeric)"
      ],
      "execution_count": null,
      "outputs": []
    },
    {
      "cell_type": "code",
      "metadata": {
        "id": "HG02Mz-3E7ne"
      },
      "source": [
        "### Now let's aggregate the data a bit for visualization sake ###\n",
        "ndf_filtered2['low_income'] = ndf_filtered2['In the bottom decile'] + ndf_filtered2['In the second decile'] + ndf_filtered2['In the third decile']\n",
        "ndf_filtered2['midplus_income'] = ndf_filtered2['In the fourth decile'] + ndf_filtered2['In the fifth decile'] + ndf_filtered2['In the top half of the distribution']\n",
        "\n",
        "ndf_filtered2 = ndf_filtered2.drop(money_list, axis=1)"
      ],
      "execution_count": null,
      "outputs": []
    },
    {
      "cell_type": "code",
      "metadata": {
        "id": "AsCAIYM5E_-k"
      },
      "source": [
        "# Renaming columns\n",
        "ndf_filtered2 = ndf_filtered2.rename(columns={\"Population, 2016\": \"population_2016\", \"English\": \"english\", \"French\": \"french\", \"Non-official languages\": \"non_official_languages\"})\n",
        "\n",
        "# Creating percentage columns\n",
        "ndf_filtered2['percent_low'] = ndf_filtered2['low_income']/ndf_filtered2['population_2016']\n",
        "ndf_filtered2['percent_midplus'] = ndf_filtered2['midplus_income']/ndf_filtered2['population_2016']\n",
        "ndf_filtered2['percent_english'] = ndf_filtered2['english']/ndf_filtered2['population_2016']\n",
        "ndf_filtered2['percent_french'] = ndf_filtered2['french']/ndf_filtered2['population_2016']\n",
        "ndf_filtered2['percent_nol'] = ndf_filtered2['non_official_languages']/ndf_filtered2['population_2016']"
      ],
      "execution_count": null,
      "outputs": []
    },
    {
      "cell_type": "code",
      "metadata": {
        "id": "436XjUEUFDbF"
      },
      "source": [
        "# Reordering columns\n",
        "ndf_cols = ndf_filtered2.columns.to_list()\n",
        "new_ndf_cols = ['Neighbourhood Number','population_2016',\n",
        " 'english',\n",
        " 'percent_english',\n",
        " 'french',\n",
        " 'percent_french',\n",
        " 'non_official_languages',\n",
        " 'percent_nol',\n",
        " 'low_income',\n",
        " 'percent_low',\n",
        " 'midplus_income',\n",
        " 'percent_midplus']\n",
        "ndf_filtered2 = ndf_filtered2[new_ndf_cols]\n",
        "\n",
        "# Getting rid of the City of Toronto Row\n",
        "ndf_filtered2 = ndf_filtered2[1:]"
      ],
      "execution_count": null,
      "outputs": []
    },
    {
      "cell_type": "code",
      "metadata": {
        "id": "dpBlrkQpFE8M"
      },
      "source": [
        "# Turning Neighbourhood Number from float to str\n",
        "ndf_filtered2['Neighbourhood Number'] = ndf_filtered2['Neighbourhood Number'].astype(int)\n",
        "ndf_filtered2['Neighbourhood Number'] = ndf_filtered2['Neighbourhood Number'].astype(str)"
      ],
      "execution_count": null,
      "outputs": []
    },
    {
      "cell_type": "code",
      "metadata": {
        "id": "IHOSEpbOFIbN"
      },
      "source": [
        "# Writing to .csv. Need to reset the index and turn it into an actual column\n",
        "ndf_filtered2 = ndf_filtered2.reset_index()\n",
        "ndf_filtered2 = ndf_filtered2.rename(columns={\"index\":\"Neighbourhood\"})\n",
        "ndf_filtered2.index.names=[\"\"]\n",
        "ndf_filtered2.to_csv(\"05_neighbourhood-profiles_cleaned.csv\", index=False)"
      ],
      "execution_count": null,
      "outputs": []
    }
  ]
}