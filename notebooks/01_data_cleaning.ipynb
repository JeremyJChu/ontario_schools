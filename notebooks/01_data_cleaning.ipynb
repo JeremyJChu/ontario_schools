{
  "nbformat": 4,
  "nbformat_minor": 0,
  "metadata": {
    "colab": {
      "name": "01_data-cleaning.ipynb",
      "provenance": [],
      "collapsed_sections": []
    },
    "kernelspec": {
      "name": "python3",
      "display_name": "Python 3"
    }
  },
  "cells": [
    {
      "cell_type": "code",
      "metadata": {
        "id": "T8pLgmKm_1CN"
      },
      "source": [
        "import pandas as pd\n",
        "import numpy as np"
      ],
      "execution_count": null,
      "outputs": []
    },
    {
      "cell_type": "code",
      "metadata": {
        "id": "MgeH_v13cOxJ"
      },
      "source": [
        "### The Reset Code ###\n",
        "\n",
        "# Read Data\n",
        "df = pd.read_excel(\"01_School-data_raw.xlsx\")\n",
        "\n",
        "# Let's remove some irrelevant columns.\n",
        "df_dropped = df.drop(['Board Number','School Number','Building Suite','P.O. Box','Street','Phone Number','Fax Number', 'Province', 'Municipality', 'School Website','Board Website',\n",
        "         'Percentage of Students Whose First Language Is Not French', 'Percentage of Students Who Are New to Canada from a Non-French Speaking Country',\n",
        "         'Extract Date'],\n",
        "        axis = 1)\n",
        "\n",
        "# Filtering only for Toronto\n",
        "Toronto_df = df_dropped.loc[(df_dropped['School Language'] == 'English') & (df_dropped['Postal Code'].str.startswith('M', na = False))]"
      ],
      "execution_count": null,
      "outputs": []
    },
    {
      "cell_type": "code",
      "metadata": {
        "colab": {
          "base_uri": "https://localhost:8080/"
        },
        "id": "aJC1_7Rf_8cO",
        "outputId": "cddedbf3-bc34-46c5-eeec-7553f4a92206"
      },
      "source": [
        "### Data Transformation ###\n",
        "\n",
        "# Create list of columns for fields starting with \"Percentage\"\n",
        "percentage_cols = Toronto_df[Toronto_df.filter(regex = 'Percentage').columns].columns.tolist()\n",
        "\n",
        "# Create a new list of columns, replacing Percentage with Number\n",
        "number_cols = [i.replace(\"Percentage\",\"Number\") for i in percentage_cols]\n",
        "\n",
        "# Transform the string percentage fields into numeric values\n",
        "Toronto_df[percentage_cols] = Toronto_df[percentage_cols].replace(r'%','',regex = True)\n",
        "Toronto_df[percentage_cols] = (Toronto_df[percentage_cols].apply(pd.to_numeric, errors = 'coerce'))/100\n",
        "\n",
        "# Remove Enrolment NA fields, turn field to numeric, remove new NA schools coerced from suppressed data\n",
        "Toronto_df = Toronto_df[Toronto_df['Enrolment'].notna()]\n",
        "Toronto_df['Enrolment'] = Toronto_df['Enrolment'].apply(pd.to_numeric, errors = 'coerce')\n",
        "Toronto_df = Toronto_df[Toronto_df['Enrolment'].notna()]\n",
        "\n",
        "# Creating Number columns from percentage columns\n",
        "for i, j in zip(percentage_cols, number_cols):\n",
        "    Toronto_df[j] = round(Toronto_df['Enrolment'] * Toronto_df[i])\n",
        "\n",
        "# Create column list of fields starting with \"Change\"\n",
        "change_cols = Toronto_df[Toronto_df.filter(regex = 'Change').columns].columns.tolist()\n",
        "\n",
        "# Turning Change columns into calculatable fields\n",
        "Toronto_df[change_cols] = (Toronto_df[change_cols]/100) + 1\n",
        "\n",
        "# Column list of Number of 2016 students\n",
        "number_2016cols = ['2016 Grade 3 Reading',\n",
        " '2016 Grade 3 Writing',\n",
        " '2016 Grade 3 Math',\n",
        " '2016 Grade 6 Reading',\n",
        " '2016 Grade 6 Writing',\n",
        " '2016 Grade 6 Math',\n",
        " '2016 Grade 9 Academic Math',\n",
        " '2016 Grade 9 Applied Math',\n",
        " '2016 Grade 10 OSSLT']\n",
        "\n",
        "# Getting a column list of only 2019 Numbers\n",
        "number_2019cols = ['Number of Grade 3 Students Achieving the Provincial Standard in Reading',\n",
        " 'Number of Grade 3 Students Achieving the Provincial Standard in Writing',\n",
        " 'Number of Grade 3 Students Achieving the Provincial Standard in Mathematics',\n",
        " 'Number of Grade 6 Students Achieving the Provincial Standard in Reading',\n",
        " 'Number of Grade 6 Students Achieving the Provincial Standard in Writing',\n",
        " 'Number of Grade 6 Students Achieving the Provincial Standard in Mathematics',\n",
        " 'Number of Grade 9 Students Achieving the Provincial Standard in Academic Mathematics',\n",
        " 'Number of Grade 9 Students Achieving the Provincial Standard in Applied Mathematics',\n",
        " 'Number of Students That Passed the Grade 10 OSSLT on Their First Attempt']\n",
        "\n",
        "# Creating 2016 Number columns from \n",
        "for i, j, k in zip(number_2019cols, change_cols, number_2016cols):\n",
        "  Toronto_df[k] = round(Toronto_df[i]/Toronto_df[j])"
      ],
      "execution_count": null,
      "outputs": [
        {
          "output_type": "stream",
          "text": [
            "/usr/local/lib/python3.6/dist-packages/pandas/core/frame.py:3069: SettingWithCopyWarning: \n",
            "A value is trying to be set on a copy of a slice from a DataFrame.\n",
            "Try using .loc[row_indexer,col_indexer] = value instead\n",
            "\n",
            "See the caveats in the documentation: https://pandas.pydata.org/pandas-docs/stable/user_guide/indexing.html#returning-a-view-versus-a-copy\n",
            "  self[k1] = value[k2]\n"
          ],
          "name": "stderr"
        }
      ]
    },
    {
      "cell_type": "code",
      "metadata": {
        "id": "CConxoUjcpY7"
      },
      "source": [
        "### Clean up old columns ###\n",
        "Toronto_df_cleaned = Toronto_df.drop(percentage_cols, axis = 1)\n",
        "Toronto_df_cleaned = Toronto_df_cleaned.drop(change_cols, axis = 1)"
      ],
      "execution_count": null,
      "outputs": []
    },
    {
      "cell_type": "code",
      "metadata": {
        "id": "80Ynqdnkdqi5"
      },
      "source": [
        "### Renaming and rearranging columns ###\n",
        "\n",
        "# Renaming 2019 columns. First create a list of the new names in order\n",
        "number_2019cols_new = ['2019 Grade 3 Reading',\n",
        " '2019 Grade 3 Writing',\n",
        " '2019 Grade 3 Math',\n",
        " '2019 Grade 6 Reading',\n",
        " '2019 Grade 6 Writing',\n",
        " '2019 Grade 6 Math',\n",
        " '2019 Grade 9 Academic Math',\n",
        " '2019 Grade 9 Applied Math',\n",
        " '2019 Grade 10 OSSLT']\n",
        "\n",
        "# Zip the list of new names with old names into a dictionary\n",
        "cols2019_dict = dict(zip(number_2019cols, number_2019cols_new))\n",
        "\n",
        "# The renaming process\n",
        "Toronto_df_cleaned = Toronto_df_cleaned.rename(columns=cols2019_dict)\n",
        "\n",
        "# Reordering columns. First create a list of column names\n",
        "cleaned_cols_list = Toronto_df_cleaned.columns.tolist()\n",
        "\n",
        "# Using the information obtained above, create a new list with the columns you want them to be\n",
        "new_cleaned_cols_list =  ['Board Name',\n",
        " 'Board Type',\n",
        " 'School Name',\n",
        " 'School Type',\n",
        " 'School Special Condition Code',\n",
        " 'School Level',\n",
        " 'School Language',\n",
        " 'Grade Range',\n",
        " 'City',\n",
        " 'Postal Code',\n",
        " 'Enrolment',\n",
        " 'Latitude',\n",
        " 'Longitude',\n",
        " 'Number of Students Whose First Language Is Not English',\n",
        " 'Number of Students Who Are New to Canada from a Non-English Speaking Country',\n",
        " 'Number of Students Receiving Special Education Services',\n",
        " 'Number of Students Identified as Gifted',\n",
        " 'Number of School-Aged Children Who Live in Low-Income Households',\n",
        " 'Number of Students Whose Parents Have Some University Education',\n",
        " '2016 Grade 3 Reading',\n",
        " '2019 Grade 3 Reading',\n",
        " '2016 Grade 3 Writing',\n",
        " '2019 Grade 3 Writing',\n",
        " '2016 Grade 3 Math',\n",
        " '2019 Grade 3 Math',\n",
        " '2016 Grade 6 Reading',\n",
        " '2019 Grade 6 Reading',\n",
        " '2016 Grade 6 Writing',\n",
        " '2019 Grade 6 Writing',\n",
        " '2016 Grade 6 Math',\n",
        " '2019 Grade 6 Math',\n",
        " '2016 Grade 9 Academic Math',\n",
        " '2019 Grade 9 Academic Math',\n",
        " '2016 Grade 9 Applied Math',\n",
        " '2019 Grade 9 Applied Math',\n",
        " '2016 Grade 10 OSSLT',\n",
        " '2019 Grade 10 OSSLT']\n",
        "\n",
        " # Reading the data in the new order with the new list\n",
        "Toronto_df_cleaned = Toronto_df_cleaned[new_cleaned_cols_list]\n",
        "\n",
        " # Manual renaming for the final columns\n",
        "Toronto_df_cleaned = Toronto_df_cleaned.rename(columns={'Number of Students Whose First Language Is Not English':'First Language Not English',\n",
        "                           'Number of Students Who Are New to Canada from a Non-English Speaking Country':'New to Canada from Non-English Speaking Country',\n",
        "                           'Number of Students Receiving Special Education Services':'Receiving Special Education Services',\n",
        "                           'Number of Students Identified as Gifted':'Identified as Gifted',\n",
        "                           'Number of School-Aged Children Who Live in Low-Income Households':'Live in Low-Income Households',\n",
        "                           'Number of Students Whose Parents Have Some University Education':'Parents Have Some University Education'})\n",
        "\n",
        "Toronto_df_cleaned['FSA'] = Toronto_df_cleaned['Postal Code'].str[:3]"
      ],
      "execution_count": null,
      "outputs": []
    },
    {
      "cell_type": "markdown",
      "metadata": {
        "id": "7u2bGnDTDndd"
      },
      "source": [
        "So what am I trying to do? What are the possible questions?\n",
        "- I want to look at location of the school, the type of the school, %of students that relates to English fields, gifted, all the % stats for grades, income.\n",
        "- Are there more \"gifted\" students in low-income schools (Can that be answered?)\n",
        "- English and Math, which subject are students better in?\n",
        "- How common are students whose first language is not English in low-income neighbourhoods\n",
        "\n",
        "To Do:\n",
        "- Filter location down to Toronto, so take the first 3 characters of the postal code, filter those that start with M\n",
        "- Filter schools down to English only\n",
        "- Delete columns Building Site, P.O. Box, \n"
      ]
    },
    {
      "cell_type": "code",
      "metadata": {
        "id": "eUGYS2iYcEgX"
      },
      "source": [
        "# Issue 1: The Grade Range is split between 9-12 and a bunch of other ranges. Which means all the Grade 9-12 schools will not have data for Grade 3 and 6, and vice versa.\n",
        "#          Hence I will \n",
        "secondary_cols = Toronto_df_cleaned[Toronto_df_cleaned.filter(regex = 'Grade 9').columns].columns.tolist() + Toronto_df_cleaned[Toronto_df_cleaned.filter(regex = 'Grade 10').columns].columns.tolist()\n",
        "Toronto_df_young = Toronto_df_cleaned.drop(secondary_cols,\n",
        "                              axis = 1)\n",
        "Toronto_df_young = Toronto_df_young.loc[df['Grade Range'] != \"9-12\"]\n",
        "Toronto_df_young.fillna(\"N/A\", inplace=True)"
      ],
      "execution_count": null,
      "outputs": []
    },
    {
      "cell_type": "code",
      "metadata": {
        "id": "gnOw0GPGglGC"
      },
      "source": [
        "Toronto_df_secondary = Toronto_df_cleaned.loc[df['Grade Range'] == \"9-12\"]\n",
        "elementary_cols = Toronto_df_cleaned[Toronto_df_cleaned.filter(regex = 'Grade 3').columns].columns.tolist() + Toronto_df_cleaned[Toronto_df_cleaned.filter(regex = 'Grade 6').columns].columns.tolist()\n",
        "Toronto_df_secondary = Toronto_df_secondary.drop(elementary_cols,\n",
        "                                     axis = 1)\n",
        "Toronto_df_secondary.fillna(\"N/A\", inplace=True)"
      ],
      "execution_count": null,
      "outputs": []
    },
    {
      "cell_type": "code",
      "metadata": {
        "id": "y5ee5pooP6vz"
      },
      "source": [
        "Toronto_df_young.to_csv(\"02_Toronto-elemid_cleaned.csv\", index=False)\n",
        "Toronto_df_secondary.to_csv(\"03_Toronto-seconday_cleaned.csv\", index=False)"
      ],
      "execution_count": null,
      "outputs": []
    }
  ]
}